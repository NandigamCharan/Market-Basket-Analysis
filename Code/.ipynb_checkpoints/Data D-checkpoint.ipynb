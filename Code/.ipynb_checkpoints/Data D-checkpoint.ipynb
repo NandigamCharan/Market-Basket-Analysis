{
 "cells": [
  {
   "cell_type": "code",
   "execution_count": 1,
   "id": "331732bd",
   "metadata": {},
   "outputs": [],
   "source": [
    "import numpy as np\n",
    "import pandas as pd\n",
    "import gc\n",
    "import os\n"
   ]
  },
  {
   "cell_type": "code",
   "execution_count": 5,
   "id": "6e00d65b",
   "metadata": {},
   "outputs": [
    {
     "data": {
      "text/plain": [
       "['aisles.csv',\n",
       " 'departments.csv',\n",
       " 'orders.csv',\n",
       " 'order_products__prior.csv',\n",
       " 'order_products__train.csv',\n",
       " 'products.csv',\n",
       " 'sample_submission.csv']"
      ]
     },
     "execution_count": 5,
     "metadata": {},
     "output_type": "execute_result"
    }
   ],
   "source": [
    "os.listdir(\"../data\")"
   ]
  },
  {
   "cell_type": "code",
   "execution_count": 6,
   "id": "5586c68a",
   "metadata": {},
   "outputs": [],
   "source": [
    "aisles = pd.read_csv(\"../data/aisles.csv\")\n",
    "departments = pd.read_csv(\"../data/departments.csv\")\n",
    "orders = pd.read_csv(\"../data/orders.csv\")\n",
    "prior = pd.read_csv(\"../data/order_products__prior.csv\")\n",
    "train = pd.read_csv(\"../data/order_products__train.csv\")\n",
    "products = pd.read_csv(\"../data/products.csv\")"
   ]
  },
  {
   "cell_type": "code",
   "execution_count": 7,
   "id": "b3fd9b59",
   "metadata": {},
   "outputs": [
    {
     "data": {
      "text/plain": [
       "134"
      ]
     },
     "execution_count": 7,
     "metadata": {},
     "output_type": "execute_result"
    }
   ],
   "source": [
    "len(aisles.aisle.unique())"
   ]
  }
 ],
 "metadata": {
  "kernelspec": {
   "display_name": "Python 3",
   "language": "python",
   "name": "python3"
  },
  "language_info": {
   "codemirror_mode": {
    "name": "ipython",
    "version": 3
   },
   "file_extension": ".py",
   "mimetype": "text/x-python",
   "name": "python",
   "nbconvert_exporter": "python",
   "pygments_lexer": "ipython3",
   "version": "3.9.4"
  }
 },
 "nbformat": 4,
 "nbformat_minor": 5
}
